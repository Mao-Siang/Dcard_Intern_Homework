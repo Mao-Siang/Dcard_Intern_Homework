{
 "cells": [
  {
   "attachments": {},
   "cell_type": "markdown",
   "metadata": {},
   "source": [
    "## RNN for Like Count Prediction"
   ]
  },
  {
   "attachments": {},
   "cell_type": "markdown",
   "metadata": {},
   "source": [
    "### Import Modules"
   ]
  },
  {
   "cell_type": "code",
   "execution_count": 61,
   "metadata": {},
   "outputs": [],
   "source": [
    "from keras.models import Sequential\n",
    "from keras.layers import Dense, Dropout, SimpleRNN\n",
    "import pandas as pd\n",
    "import numpy as np\n",
    "from sklearn.model_selection import train_test_split\n",
    "import matplotlib.pyplot as plt"
   ]
  },
  {
   "attachments": {},
   "cell_type": "markdown",
   "metadata": {},
   "source": [
    "### Load Data"
   ]
  },
  {
   "cell_type": "code",
   "execution_count": 62,
   "metadata": {},
   "outputs": [],
   "source": [
    "train = pd.read_csv(\"ML Intern Homework/intern_homework_train_dataset.csv\")\n",
    "\n",
    "train[\"like_count_1h\"] = np.log1p(train[\"like_count_1h\"])\n",
    "train[\"like_count_2h\"] = np.log1p(train[\"like_count_2h\"])\n",
    "train[\"like_count_3h\"] = np.log1p(train[\"like_count_3h\"])\n",
    "train[\"like_count_4h\"] = np.log1p(train[\"like_count_4h\"])\n",
    "train[\"like_count_5h\"] = np.log1p(train[\"like_count_5h\"])\n",
    "train[\"like_count_6h\"] = np.log1p(train[\"like_count_6h\"])\n",
    "train[\"like_count_24h\"] = np.log1p(train[\"like_count_24h\"])\n",
    "\n",
    "X_original = train[\n",
    "    [\n",
    "        \"like_count_1h\",\n",
    "        \"like_count_2h\",\n",
    "        \"like_count_3h\",\n",
    "        \"like_count_4h\",\n",
    "        \"like_count_5h\",\n",
    "        \"like_count_6h\",\n",
    "    ]\n",
    "].to_numpy()\n",
    "\n",
    "train.drop(\n",
    "    train[train[\"like_count_24h\"] - train[\"like_count_6h\"] > 3].index, inplace=True\n",
    ")\n",
    "\n",
    "X = train[\n",
    "    [\n",
    "        \"like_count_1h\",\n",
    "        \"like_count_2h\",\n",
    "        \"like_count_3h\",\n",
    "        \"like_count_4h\",\n",
    "        \"like_count_5h\",\n",
    "        \"like_count_6h\",\n",
    "    ]\n",
    "].to_numpy()\n",
    "y = train[[\"like_count_24h\"]].to_numpy()\n",
    "\n",
    "X_train, X_valid, y_train, y_valid = train_test_split(\n",
    "    X, y, test_size=0.2, random_state=42\n",
    ")"
   ]
  },
  {
   "attachments": {},
   "cell_type": "markdown",
   "metadata": {},
   "source": [
    "### Build a Simple RNN Model with Keras"
   ]
  },
  {
   "cell_type": "code",
   "execution_count": 63,
   "metadata": {},
   "outputs": [
    {
     "name": "stdout",
     "output_type": "stream",
     "text": [
      "Model: \"sequential_15\"\n",
      "_________________________________________________________________\n",
      " Layer (type)                Output Shape              Param #   \n",
      "=================================================================\n",
      " simple_rnn_15 (SimpleRNN)   (None, 6, 32)             1088      \n",
      "                                                                 \n",
      " dense_14 (Dense)            (None, 6, 1)              33        \n",
      "                                                                 \n",
      "=================================================================\n",
      "Total params: 1,121\n",
      "Trainable params: 1,121\n",
      "Non-trainable params: 0\n",
      "_________________________________________________________________\n"
     ]
    }
   ],
   "source": [
    "model = Sequential()\n",
    "model.add(SimpleRNN(32, input_shape=(6, 1), return_sequences=True))\n",
    "model.add(Dense(1))\n",
    "model.compile(loss=\"mse\", optimizer=\"adam\", metrics=[\"mse\"])\n",
    "model.summary()"
   ]
  },
  {
   "attachments": {},
   "cell_type": "markdown",
   "metadata": {},
   "source": [
    "### Training Section"
   ]
  },
  {
   "cell_type": "code",
   "execution_count": null,
   "metadata": {},
   "outputs": [],
   "source": [
    "history = model.fit(\n",
    "    X_train.reshape(-1, 6, 1),\n",
    "    y_train,\n",
    "    epochs=60,\n",
    "    batch_size=32,\n",
    "    validation_data=(X_valid.reshape(-1, 6, 1), y_valid),\n",
    ")"
   ]
  },
  {
   "cell_type": "code",
   "execution_count": null,
   "metadata": {},
   "outputs": [
    {
     "data": {
      "image/png": "[encoded data removed]",
      "text/plain": [
       "<Figure size 640x480 with 1 Axes>"
      ]
     },
     "metadata": {},
     "output_type": "display_data"
    }
   ],
   "source": [
    "plt.plot(history.history[\"loss\"], label=\"train\")\n",
    "plt.show()"
   ]
  },
  {
   "attachments": {},
   "cell_type": "markdown",
   "metadata": {},
   "source": [
    "### Generate the hidden layer output for Regression"
   ]
  },
  {
   "cell_type": "code",
   "execution_count": null,
   "metadata": {},
   "outputs": [
    {
     "name": "stdout",
     "output_type": "stream",
     "text": [
      "313/313 [==============================] - 0s 430us/step\n",
      "313/313 [==============================] - 0s 414us/step\n",
      "1563/1563 [==============================] - 1s 382us/step\n"
     ]
    }
   ],
   "source": [
    "valid = pd.read_csv(\"ML Intern Homework/intern_homework_public_test_dataset.csv\")\n",
    "test = pd.read_csv(\"ML Intern Homework/intern_homework_private_test_dataset.csv\")\n",
    "\n",
    "valid[\"like_count_1h\"] = np.log1p(valid[\"like_count_1h\"])\n",
    "valid[\"like_count_2h\"] = np.log1p(valid[\"like_count_2h\"])\n",
    "valid[\"like_count_3h\"] = np.log1p(valid[\"like_count_3h\"])\n",
    "valid[\"like_count_4h\"] = np.log1p(valid[\"like_count_4h\"])\n",
    "valid[\"like_count_5h\"] = np.log1p(valid[\"like_count_5h\"])\n",
    "valid[\"like_count_6h\"] = np.log1p(valid[\"like_count_6h\"])\n",
    "\n",
    "test[\"like_count_1h\"] = np.log1p(test[\"like_count_1h\"])\n",
    "test[\"like_count_2h\"] = np.log1p(test[\"like_count_2h\"])\n",
    "test[\"like_count_3h\"] = np.log1p(test[\"like_count_3h\"])\n",
    "test[\"like_count_4h\"] = np.log1p(test[\"like_count_4h\"])\n",
    "test[\"like_count_5h\"] = np.log1p(test[\"like_count_5h\"])\n",
    "test[\"like_count_6h\"] = np.log1p(test[\"like_count_6h\"])\n",
    "\n",
    "X_valid = valid[\n",
    "    [\n",
    "        \"like_count_1h\",\n",
    "        \"like_count_2h\",\n",
    "        \"like_count_3h\",\n",
    "        \"like_count_4h\",\n",
    "        \"like_count_5h\",\n",
    "        \"like_count_6h\",\n",
    "    ]\n",
    "].to_numpy()\n",
    "X_test = test[\n",
    "    [\n",
    "        \"like_count_1h\",\n",
    "        \"like_count_2h\",\n",
    "        \"like_count_3h\",\n",
    "        \"like_count_4h\",\n",
    "        \"like_count_5h\",\n",
    "        \"like_count_6h\",\n",
    "    ]\n",
    "].to_numpy()\n",
    "\n",
    "X_valid = X_valid.reshape(X_valid.shape[0], X_valid.shape[1], 1)\n",
    "X_test = X_test.reshape(X_test.shape[0], X_test.shape[1], 1)\n",
    "\n",
    "y_valid = model.predict(X_valid)\n",
    "y_test = model.predict(X_test)\n",
    "y_train_pred = model.predict(X_original.reshape(-1, 6, 1))\n",
    "\n",
    "\n",
    "# Store as new CSV\n",
    "# y_valid = np.expm1(y_valid)\n",
    "# y_test = np.expm1(y_test)\n",
    "\n",
    "df = pd.DataFrame(y_train_pred.reshape(-1, 6))\n",
    "df.to_csv(\"ML Intern Homework/train_rnn.csv\", index=False)\n",
    "\n",
    "df = pd.DataFrame(y_valid.reshape(-1, 6))\n",
    "df.to_csv(\"ML Intern Homework/valid_rnn.csv\", index=False)\n",
    "\n",
    "df = pd.DataFrame(y_test.reshape(-1, 6))\n",
    "df.to_csv(\"ML Intern Homework/test_rnn.csv\", index=False)"
   ]
  }
 ],
 "metadata": {
  "kernelspec": {
   "display_name": "tfenv",
   "language": "python",
   "name": "python3"
  },
  "language_info": {
   "codemirror_mode": {
    "name": "ipython",
    "version": 3
   },
   "file_extension": ".py",
   "mimetype": "text/x-python",
   "name": "python",
   "nbconvert_exporter": "python",
   "pygments_lexer": "ipython3",
   "version": "3.9.16"
  },
  "orig_nbformat": 4
 },
 "nbformat": 4,
 "nbformat_minor": 2
}
