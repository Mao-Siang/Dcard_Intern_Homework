{
 "cells": [
  {
   "attachments": {},
   "cell_type": "markdown",
   "metadata": {},
   "source": [
    "## RNN for Like Count Prediction"
   ]
  },
  {
   "attachments": {},
   "cell_type": "markdown",
   "metadata": {},
   "source": [
    "### Import Modules"
   ]
  },
  {
   "cell_type": "code",
   "execution_count": 22,
   "metadata": {},
   "outputs": [],
   "source": [
    "from keras.models import Sequential\n",
    "from keras.layers import Dense, Dropout, SimpleRNN\n",
    "import pandas as pd\n",
    "import numpy as np\n",
    "from sklearn.model_selection import train_test_split\n",
    "import matplotlib.pyplot as plt\n",
    "import tensorflow as tf"
   ]
  },
  {
   "attachments": {},
   "cell_type": "markdown",
   "metadata": {},
   "source": [
    "### Set Random Seed"
   ]
  },
  {
   "cell_type": "code",
   "execution_count": 23,
   "metadata": {},
   "outputs": [],
   "source": [
    "np.random.seed(42)\n",
    "tf.random.set_seed(42)"
   ]
  },
  {
   "attachments": {},
   "cell_type": "markdown",
   "metadata": {},
   "source": [
    "### Load Data"
   ]
  },
  {
   "cell_type": "code",
   "execution_count": 24,
   "metadata": {},
   "outputs": [],
   "source": [
    "train = pd.read_csv(\"ML Intern Homework/intern_homework_train_dataset.csv\")\n",
    "\n",
    "train[\"like_count_1h\"] = np.log1p(train[\"like_count_1h\"])\n",
    "train[\"like_count_2h\"] = np.log1p(train[\"like_count_2h\"])\n",
    "train[\"like_count_3h\"] = np.log1p(train[\"like_count_3h\"])\n",
    "train[\"like_count_4h\"] = np.log1p(train[\"like_count_4h\"])\n",
    "train[\"like_count_5h\"] = np.log1p(train[\"like_count_5h\"])\n",
    "train[\"like_count_6h\"] = np.log1p(train[\"like_count_6h\"])\n",
    "train[\"like_count_24h\"] = np.log1p(train[\"like_count_24h\"])\n",
    "\n",
    "X_original = train[\n",
    "    [\n",
    "        \"like_count_1h\",\n",
    "        \"like_count_2h\",\n",
    "        \"like_count_3h\",\n",
    "        \"like_count_4h\",\n",
    "        \"like_count_5h\",\n",
    "        \"like_count_6h\",\n",
    "    ]\n",
    "].to_numpy()\n",
    "\n",
    "train.drop(\n",
    "    train[train[\"like_count_24h\"] - train[\"like_count_6h\"] > 3].index, inplace=True\n",
    ")\n",
    "\n",
    "X = train[\n",
    "    [\n",
    "        \"like_count_1h\",\n",
    "        \"like_count_2h\",\n",
    "        \"like_count_3h\",\n",
    "        \"like_count_4h\",\n",
    "        \"like_count_5h\",\n",
    "        \"like_count_6h\",\n",
    "    ]\n",
    "].to_numpy()\n",
    "y = train[[\"like_count_24h\"]].to_numpy()\n",
    "\n",
    "X_train, X_valid, y_train, y_valid = train_test_split(\n",
    "    X, y, test_size=0.2, random_state=42\n",
    ")"
   ]
  },
  {
   "attachments": {},
   "cell_type": "markdown",
   "metadata": {},
   "source": [
    "### Build a Simple RNN Model with Keras"
   ]
  },
  {
   "cell_type": "code",
   "execution_count": 25,
   "metadata": {},
   "outputs": [
    {
     "name": "stdout",
     "output_type": "stream",
     "text": [
      "Model: \"sequential_3\"\n",
      "_________________________________________________________________\n",
      " Layer (type)                Output Shape              Param #   \n",
      "=================================================================\n",
      " simple_rnn_3 (SimpleRNN)    (None, 6, 32)             1088      \n",
      "                                                                 \n",
      " dense_3 (Dense)             (None, 6, 1)              33        \n",
      "                                                                 \n",
      "=================================================================\n",
      "Total params: 1,121\n",
      "Trainable params: 1,121\n",
      "Non-trainable params: 0\n",
      "_________________________________________________________________\n"
     ]
    }
   ],
   "source": [
    "model = Sequential()\n",
    "model.add(SimpleRNN(32, input_shape=(6, 1), return_sequences=True))\n",
    "model.add(Dense(1))\n",
    "model.compile(loss=\"mse\", optimizer=\"adam\", metrics=[\"mse\"])\n",
    "model.summary()"
   ]
  },
  {
   "attachments": {},
   "cell_type": "markdown",
   "metadata": {},
   "source": [
    "### Training Section"
   ]
  },
  {
   "cell_type": "code",
   "execution_count": 26,
   "metadata": {},
   "outputs": [
    {
     "name": "stdout",
     "output_type": "stream",
     "text": [
      "Epoch 1/60\n",
      "1230/1230 [==============================] - 2s 961us/step - loss: 0.6425 - mse: 0.6425 - val_loss: 0.4715 - val_mse: 0.4715\n",
      "Epoch 2/60\n",
      "1230/1230 [==============================] - 1s 842us/step - loss: 0.4750 - mse: 0.4750 - val_loss: 0.4462 - val_mse: 0.4462\n",
      "Epoch 3/60\n",
      "1230/1230 [==============================] - 1s 731us/step - loss: 0.4583 - mse: 0.4583 - val_loss: 0.4364 - val_mse: 0.4364\n",
      "Epoch 4/60\n",
      "1230/1230 [==============================] - 1s 736us/step - loss: 0.4496 - mse: 0.4496 - val_loss: 0.4393 - val_mse: 0.4393\n",
      "Epoch 5/60\n",
      "1230/1230 [==============================] - 1s 713us/step - loss: 0.4451 - mse: 0.4451 - val_loss: 0.4289 - val_mse: 0.4289\n",
      "Epoch 6/60\n",
      "1230/1230 [==============================] - 1s 731us/step - loss: 0.4424 - mse: 0.4424 - val_loss: 0.4246 - val_mse: 0.4246\n",
      "Epoch 7/60\n",
      "1230/1230 [==============================] - 1s 710us/step - loss: 0.4410 - mse: 0.4410 - val_loss: 0.4248 - val_mse: 0.4248\n",
      "Epoch 8/60\n",
      "1230/1230 [==============================] - 1s 826us/step - loss: 0.4403 - mse: 0.4403 - val_loss: 0.4424 - val_mse: 0.4424\n",
      "Epoch 9/60\n",
      "1230/1230 [==============================] - 1s 815us/step - loss: 0.4389 - mse: 0.4389 - val_loss: 0.4221 - val_mse: 0.4221\n",
      "Epoch 10/60\n",
      "1230/1230 [==============================] - 1s 838us/step - loss: 0.4383 - mse: 0.4383 - val_loss: 0.4234 - val_mse: 0.4234\n",
      "Epoch 11/60\n",
      "1230/1230 [==============================] - 1s 736us/step - loss: 0.4377 - mse: 0.4377 - val_loss: 0.4224 - val_mse: 0.4224\n",
      "Epoch 12/60\n",
      "1230/1230 [==============================] - 1s 718us/step - loss: 0.4368 - mse: 0.4368 - val_loss: 0.4240 - val_mse: 0.4240\n",
      "Epoch 13/60\n",
      "1230/1230 [==============================] - 1s 736us/step - loss: 0.4369 - mse: 0.4369 - val_loss: 0.4207 - val_mse: 0.4207\n",
      "Epoch 14/60\n",
      "1230/1230 [==============================] - 1s 737us/step - loss: 0.4358 - mse: 0.4358 - val_loss: 0.4199 - val_mse: 0.4199\n",
      "Epoch 15/60\n",
      "1230/1230 [==============================] - 1s 759us/step - loss: 0.4358 - mse: 0.4358 - val_loss: 0.4365 - val_mse: 0.4365\n",
      "Epoch 16/60\n",
      "1230/1230 [==============================] - 1s 709us/step - loss: 0.4359 - mse: 0.4359 - val_loss: 0.4199 - val_mse: 0.4199\n",
      "Epoch 17/60\n",
      "1230/1230 [==============================] - 1s 762us/step - loss: 0.4362 - mse: 0.4362 - val_loss: 0.4219 - val_mse: 0.4219\n",
      "Epoch 18/60\n",
      "1230/1230 [==============================] - 1s 718us/step - loss: 0.4356 - mse: 0.4356 - val_loss: 0.4239 - val_mse: 0.4239\n",
      "Epoch 19/60\n",
      "1230/1230 [==============================] - 1s 733us/step - loss: 0.4354 - mse: 0.4354 - val_loss: 0.4214 - val_mse: 0.4214\n",
      "Epoch 20/60\n",
      "1230/1230 [==============================] - 1s 765us/step - loss: 0.4354 - mse: 0.4354 - val_loss: 0.4190 - val_mse: 0.4190\n",
      "Epoch 21/60\n",
      "1230/1230 [==============================] - 1s 838us/step - loss: 0.4351 - mse: 0.4351 - val_loss: 0.4355 - val_mse: 0.4355\n",
      "Epoch 22/60\n",
      "1230/1230 [==============================] - 1s 760us/step - loss: 0.4355 - mse: 0.4355 - val_loss: 0.4229 - val_mse: 0.4229\n",
      "Epoch 23/60\n",
      "1230/1230 [==============================] - 1s 745us/step - loss: 0.4350 - mse: 0.4350 - val_loss: 0.4185 - val_mse: 0.4185\n",
      "Epoch 24/60\n",
      "1230/1230 [==============================] - 1s 756us/step - loss: 0.4355 - mse: 0.4355 - val_loss: 0.4337 - val_mse: 0.4337\n",
      "Epoch 25/60\n",
      "1230/1230 [==============================] - 1s 793us/step - loss: 0.4349 - mse: 0.4349 - val_loss: 0.4230 - val_mse: 0.4230\n",
      "Epoch 26/60\n",
      "1230/1230 [==============================] - 1s 733us/step - loss: 0.4351 - mse: 0.4351 - val_loss: 0.4191 - val_mse: 0.4191\n",
      "Epoch 27/60\n",
      "1230/1230 [==============================] - 1s 754us/step - loss: 0.4346 - mse: 0.4346 - val_loss: 0.4189 - val_mse: 0.4189\n",
      "Epoch 28/60\n",
      "1230/1230 [==============================] - 1s 780us/step - loss: 0.4347 - mse: 0.4347 - val_loss: 0.4376 - val_mse: 0.4376\n",
      "Epoch 29/60\n",
      "1230/1230 [==============================] - 1s 744us/step - loss: 0.4347 - mse: 0.4347 - val_loss: 0.4216 - val_mse: 0.4216\n",
      "Epoch 30/60\n",
      "1230/1230 [==============================] - 1s 774us/step - loss: 0.4346 - mse: 0.4346 - val_loss: 0.4192 - val_mse: 0.4192\n",
      "Epoch 31/60\n",
      "1230/1230 [==============================] - 1s 780us/step - loss: 0.4342 - mse: 0.4342 - val_loss: 0.4262 - val_mse: 0.4262\n",
      "Epoch 32/60\n",
      "1230/1230 [==============================] - 1s 791us/step - loss: 0.4347 - mse: 0.4347 - val_loss: 0.4192 - val_mse: 0.4192\n",
      "Epoch 33/60\n",
      "1230/1230 [==============================] - 1s 1ms/step - loss: 0.4344 - mse: 0.4344 - val_loss: 0.4201 - val_mse: 0.4201\n",
      "Epoch 34/60\n",
      "1230/1230 [==============================] - 1s 738us/step - loss: 0.4340 - mse: 0.4340 - val_loss: 0.4209 - val_mse: 0.4209\n",
      "Epoch 35/60\n",
      "1230/1230 [==============================] - 1s 719us/step - loss: 0.4341 - mse: 0.4341 - val_loss: 0.4186 - val_mse: 0.4186\n",
      "Epoch 36/60\n",
      "1230/1230 [==============================] - 1s 776us/step - loss: 0.4348 - mse: 0.4348 - val_loss: 0.4201 - val_mse: 0.4201\n",
      "Epoch 37/60\n",
      "1230/1230 [==============================] - 1s 811us/step - loss: 0.4341 - mse: 0.4341 - val_loss: 0.4202 - val_mse: 0.4202\n",
      "Epoch 38/60\n",
      "1230/1230 [==============================] - 1s 872us/step - loss: 0.4344 - mse: 0.4344 - val_loss: 0.4183 - val_mse: 0.4183\n",
      "Epoch 39/60\n",
      "1230/1230 [==============================] - 1s 904us/step - loss: 0.4338 - mse: 0.4338 - val_loss: 0.4180 - val_mse: 0.4180\n",
      "Epoch 40/60\n",
      "1230/1230 [==============================] - 1s 908us/step - loss: 0.4341 - mse: 0.4341 - val_loss: 0.4202 - val_mse: 0.4202\n",
      "Epoch 41/60\n",
      "1230/1230 [==============================] - 1s 972us/step - loss: 0.4341 - mse: 0.4341 - val_loss: 0.4199 - val_mse: 0.4199\n",
      "Epoch 42/60\n",
      "1230/1230 [==============================] - 1s 908us/step - loss: 0.4339 - mse: 0.4339 - val_loss: 0.4189 - val_mse: 0.4189\n",
      "Epoch 43/60\n",
      "1230/1230 [==============================] - 1s 796us/step - loss: 0.4334 - mse: 0.4334 - val_loss: 0.4195 - val_mse: 0.4195\n",
      "Epoch 44/60\n",
      "1230/1230 [==============================] - 1s 828us/step - loss: 0.4335 - mse: 0.4335 - val_loss: 0.4187 - val_mse: 0.4187\n",
      "Epoch 45/60\n",
      "1230/1230 [==============================] - 1s 794us/step - loss: 0.4343 - mse: 0.4343 - val_loss: 0.4184 - val_mse: 0.4184\n",
      "Epoch 46/60\n",
      "1230/1230 [==============================] - 1s 818us/step - loss: 0.4337 - mse: 0.4337 - val_loss: 0.4187 - val_mse: 0.4187\n",
      "Epoch 47/60\n",
      "1230/1230 [==============================] - 1s 909us/step - loss: 0.4338 - mse: 0.4338 - val_loss: 0.4222 - val_mse: 0.4222\n",
      "Epoch 48/60\n",
      "1230/1230 [==============================] - 1s 788us/step - loss: 0.4333 - mse: 0.4333 - val_loss: 0.4216 - val_mse: 0.4216\n",
      "Epoch 49/60\n",
      "1230/1230 [==============================] - 1s 900us/step - loss: 0.4332 - mse: 0.4332 - val_loss: 0.4233 - val_mse: 0.4233\n",
      "Epoch 50/60\n",
      "1230/1230 [==============================] - 1s 963us/step - loss: 0.4335 - mse: 0.4335 - val_loss: 0.4183 - val_mse: 0.4183\n",
      "Epoch 51/60\n",
      "1230/1230 [==============================] - 1s 855us/step - loss: 0.4341 - mse: 0.4341 - val_loss: 0.4208 - val_mse: 0.4208\n",
      "Epoch 52/60\n",
      "1230/1230 [==============================] - 1s 773us/step - loss: 0.4338 - mse: 0.4338 - val_loss: 0.4179 - val_mse: 0.4179\n",
      "Epoch 53/60\n",
      "1230/1230 [==============================] - 1s 790us/step - loss: 0.4330 - mse: 0.4330 - val_loss: 0.4185 - val_mse: 0.4185\n",
      "Epoch 54/60\n",
      "1230/1230 [==============================] - 1s 773us/step - loss: 0.4331 - mse: 0.4331 - val_loss: 0.4193 - val_mse: 0.4193\n",
      "Epoch 55/60\n",
      "1230/1230 [==============================] - 1s 793us/step - loss: 0.4331 - mse: 0.4331 - val_loss: 0.4324 - val_mse: 0.4324\n",
      "Epoch 56/60\n",
      "1230/1230 [==============================] - 1s 802us/step - loss: 0.4333 - mse: 0.4333 - val_loss: 0.4204 - val_mse: 0.4204\n",
      "Epoch 57/60\n",
      "1230/1230 [==============================] - 1s 767us/step - loss: 0.4334 - mse: 0.4334 - val_loss: 0.4193 - val_mse: 0.4193\n",
      "Epoch 58/60\n",
      "1230/1230 [==============================] - 1s 785us/step - loss: 0.4330 - mse: 0.4330 - val_loss: 0.4177 - val_mse: 0.4177\n",
      "Epoch 59/60\n",
      "1230/1230 [==============================] - 1s 791us/step - loss: 0.4332 - mse: 0.4332 - val_loss: 0.4183 - val_mse: 0.4183\n",
      "Epoch 60/60\n",
      "1230/1230 [==============================] - 1s 766us/step - loss: 0.4335 - mse: 0.4335 - val_loss: 0.4180 - val_mse: 0.4180\n"
     ]
    }
   ],
   "source": [
    "history = model.fit(\n",
    "    X_train.reshape(-1, 6, 1),\n",
    "    y_train,\n",
    "    epochs=60,\n",
    "    batch_size=32,\n",
    "    validation_data=(X_valid.reshape(-1, 6, 1), y_valid),\n",
    ")"
   ]
  },
  {
   "cell_type": "code",
   "execution_count": 27,
   "metadata": {},
   "outputs": [
    {
     "data": {
      "image/png": "[encoded data removed]",
      "text/plain": [
       "<Figure size 640x480 with 1 Axes>"
      ]
     },
     "metadata": {},
     "output_type": "display_data"
    }
   ],
   "source": [
    "plt.plot(history.history[\"loss\"], label=\"train\")\n",
    "plt.show()"
   ]
  },
  {
   "attachments": {},
   "cell_type": "markdown",
   "metadata": {},
   "source": [
    "### Generate the hidden layer output for Regression"
   ]
  },
  {
   "cell_type": "code",
   "execution_count": 28,
   "metadata": {},
   "outputs": [
    {
     "name": "stdout",
     "output_type": "stream",
     "text": [
      "313/313 [==============================] - 0s 415us/step\n",
      "313/313 [==============================] - 0s 380us/step\n",
      "1563/1563 [==============================] - 1s 368us/step\n"
     ]
    }
   ],
   "source": [
    "valid = pd.read_csv(\"ML Intern Homework/intern_homework_public_test_dataset.csv\")\n",
    "test = pd.read_csv(\"ML Intern Homework/intern_homework_private_test_dataset.csv\")\n",
    "\n",
    "valid[\"like_count_1h\"] = np.log1p(valid[\"like_count_1h\"])\n",
    "valid[\"like_count_2h\"] = np.log1p(valid[\"like_count_2h\"])\n",
    "valid[\"like_count_3h\"] = np.log1p(valid[\"like_count_3h\"])\n",
    "valid[\"like_count_4h\"] = np.log1p(valid[\"like_count_4h\"])\n",
    "valid[\"like_count_5h\"] = np.log1p(valid[\"like_count_5h\"])\n",
    "valid[\"like_count_6h\"] = np.log1p(valid[\"like_count_6h\"])\n",
    "\n",
    "test[\"like_count_1h\"] = np.log1p(test[\"like_count_1h\"])\n",
    "test[\"like_count_2h\"] = np.log1p(test[\"like_count_2h\"])\n",
    "test[\"like_count_3h\"] = np.log1p(test[\"like_count_3h\"])\n",
    "test[\"like_count_4h\"] = np.log1p(test[\"like_count_4h\"])\n",
    "test[\"like_count_5h\"] = np.log1p(test[\"like_count_5h\"])\n",
    "test[\"like_count_6h\"] = np.log1p(test[\"like_count_6h\"])\n",
    "\n",
    "X_valid = valid[\n",
    "    [\n",
    "        \"like_count_1h\",\n",
    "        \"like_count_2h\",\n",
    "        \"like_count_3h\",\n",
    "        \"like_count_4h\",\n",
    "        \"like_count_5h\",\n",
    "        \"like_count_6h\",\n",
    "    ]\n",
    "].to_numpy()\n",
    "X_test = test[\n",
    "    [\n",
    "        \"like_count_1h\",\n",
    "        \"like_count_2h\",\n",
    "        \"like_count_3h\",\n",
    "        \"like_count_4h\",\n",
    "        \"like_count_5h\",\n",
    "        \"like_count_6h\",\n",
    "    ]\n",
    "].to_numpy()\n",
    "\n",
    "X_valid = X_valid.reshape(X_valid.shape[0], X_valid.shape[1], 1)\n",
    "X_test = X_test.reshape(X_test.shape[0], X_test.shape[1], 1)\n",
    "\n",
    "y_valid = model.predict(X_valid)\n",
    "y_test = model.predict(X_test)\n",
    "y_train_pred = model.predict(X_original.reshape(-1, 6, 1))\n",
    "\n",
    "\n",
    "# Store as new CSV\n",
    "# y_valid = np.expm1(y_valid)\n",
    "# y_test = np.expm1(y_test)\n",
    "\n",
    "df = pd.DataFrame(y_train_pred.reshape(-1, 6))\n",
    "df.to_csv(\"ML Intern Homework/train_rnn.csv\", index=False)\n",
    "\n",
    "df = pd.DataFrame(y_valid.reshape(-1, 6))\n",
    "df.to_csv(\"ML Intern Homework/valid_rnn.csv\", index=False)\n",
    "\n",
    "df = pd.DataFrame(y_test.reshape(-1, 6))\n",
    "df.to_csv(\"ML Intern Homework/test_rnn.csv\", index=False)"
   ]
  }
 ],
 "metadata": {
  "kernelspec": {
   "display_name": "tfenv",
   "language": "python",
   "name": "python3"
  },
  "language_info": {
   "codemirror_mode": {
    "name": "ipython",
    "version": 3
   },
   "file_extension": ".py",
   "mimetype": "text/x-python",
   "name": "python",
   "nbconvert_exporter": "python",
   "pygments_lexer": "ipython3",
   "version": "3.9.16"
  },
  "orig_nbformat": 4
 },
 "nbformat": 4,
 "nbformat_minor": 2
}
